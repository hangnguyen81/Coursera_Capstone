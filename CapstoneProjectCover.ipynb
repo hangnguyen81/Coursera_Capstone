{
 "metadata": {
  "language_info": {
   "codemirror_mode": {
    "name": "ipython",
    "version": 3
   },
   "file_extension": ".py",
   "mimetype": "text/x-python",
   "name": "python",
   "nbconvert_exporter": "python",
   "pygments_lexer": "ipython3",
   "version": "3.9.1"
  },
  "orig_nbformat": 2,
  "kernelspec": {
   "name": "python3",
   "display_name": "Python 3.9.1 64-bit ('venv-cs-3.9w': venv)",
   "metadata": {
    "interpreter": {
     "hash": "43ac63d669140d6df625790a7aba382bd9d7d1a244041d0f2b24b8debbd60ca7"
    }
   }
  }
 },
 "nbformat": 4,
 "nbformat_minor": 2,
 "cells": [
  {
   "source": [
    "# Capstone Project\n",
    "\n",
    "* Name: Hang Nguyen - [Link to Project in GitHub](https://github.com/hangnguyen81/Coursera_Capstone)\n",
    "* Project is a part of the course 'Applied Data Science Capstone' provided by IBM via Coursera\n"
   ],
   "cell_type": "markdown",
   "metadata": {}
  },
  {
   "cell_type": "code",
   "execution_count": 1,
   "metadata": {},
   "outputs": [],
   "source": [
    "import pandas as pd \n",
    "import numpy as np "
   ]
  },
  {
   "cell_type": "code",
   "execution_count": 2,
   "metadata": {},
   "outputs": [
    {
     "output_type": "stream",
     "name": "stdout",
     "text": [
      "Hello Capstone Project Course!\n"
     ]
    }
   ],
   "source": [
    "print('Hello Capstone Project Course!')"
   ]
  }
 ]
}