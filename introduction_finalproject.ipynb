{
 "metadata": {
  "language_info": {
   "codemirror_mode": {
    "name": "ipython",
    "version": 3
   },
   "file_extension": ".py",
   "mimetype": "text/x-python",
   "name": "python",
   "nbconvert_exporter": "python",
   "pygments_lexer": "ipython3",
   "version": "3.9.1"
  },
  "orig_nbformat": 2,
  "kernelspec": {
   "name": "python391jvsc74a57bd043ac63d669140d6df625790a7aba382bd9d7d1a244041d0f2b24b8debbd60ca7",
   "display_name": "Python 3.9.1 64-bit ('venv-cs-3.9w': venv)",
   "language": "python"
  }
 },
 "nbformat": 4,
 "nbformat_minor": 2,
 "cells": [
  {
   "source": [
    "# Recommendation for house buyers in the Capital Region in Finland\n",
    "* The final assignment of Capstone Project - The Battle of Neighborhoods\n",
    "* Name: Hang Nguyen"
   ],
   "cell_type": "markdown",
   "metadata": {}
  },
  {
   "source": [
    "## 1. Description of the problem and discussion of the background\n",
    "\n",
    "Currently, I am living with my family in Finland. Our family is planning to buy our own house to settle down. We are a middle-class family and buying a house is a huge invesment for us. That's why we would like have more information of a certain living area before deciding. Our criterias contains average house price and the availabilities of social services of the area. Besides, during over a year of pandemic, mostly we work remotely from home, this means we can choose a house in countryside or quiet area but near to public transportation.  Therefore, although we prefer the captial area to live, we also open to see options from other areas of Finland.\n",
    "\n",
    "The Finnish Capital Region consists of four municipalities with city title, Helsinki, Vantaa, Espoo and Kauniainen, whose total population is about 1.2 million (2020). The vast majority of the inhabitants live in the urban areas of the cities, but within the boundaries of these cities there are also suburban and rural areas (source: [Wikipedia](https://en.wikipedia.org/wiki/Greater_Helsinki) )"
   ],
   "cell_type": "markdown",
   "metadata": {}
  },
  {
   "source": [
    "## 2. Description of data\n",
    "National Statistical Service of Finland provides quite a lot of informative data about of housing price and services of each areas. From their service, I found:\n",
    "* List of postal code for each areas in municipalities and region (1)\n",
    "- List of average housing price (per square meter) of each areas in municipalities and region. There are quite a lot of missing values of house price in this list. I delete all of records which do not contain the average price of hourse (2)\n",
    "- List of social service for each areas in municipalities and region (3)\n",
    "\n",
    "Beside, I found the Fourth-level Administrative Divisions of Finland from Spatial Data Repository of NYU (4). The Geojson file has coordinates of the all municipalities of Finland. I cleaned the data, extracted the information of latitude and longitude of each municipality.\n",
    "\n",
    "I combined those above data I found to create my final data for later analysis contains:\n",
    "- Name of municipality\n",
    "- Price per square meter in each municipality\n",
    "- Latitude and longitude of municipality\n",
    "- Total inhabitants (Inhabitants are people residing permanently in the area)\n",
    "- Average age of inhabitants (Average age of inhabitants is the average age by area. In calculating the average age, six months have been added to the age of each inhabitant, and then the total age has been divided by the number of inhabitants)\n",
    "- Average income (Average income of inhabitants (eur) is the average annual income of inhabitants)\n",
    "- Households with children (Households with children are households with at least one child aged between 0 and 17 years. Also children under 18 years living alone belong to this class)\n",
    "- Number service of Agriculture, forestry and fishing\n",
    "- Number service of Mining and quarrying\n",
    "- Number service of Manufacturing\n",
    "- Number service of Electricity, gas, steam and air conditioning supply\n",
    "- Number service of Water supply; sewerage, waste management and remediation activities\n",
    "- Number service of Construction\n",
    "- Number service of Wholesale and retail trade; repair of motor vehicles and motorcycles\n",
    "- Number service of Transportation and storage\n",
    "- Number of Accommodation and food service activities\n",
    "- Number service of Information and communication\n",
    "- Number of Financial and insurance activities\n",
    "- Number of  Real estate activities\n",
    "- Number of Professional, scientific and technical activities\n",
    "- Number of Administrative and support service activities\n",
    "- Number service of Public administration and defence; compulsory social security\n",
    "- Number service of  Education\n",
    "- Number of Human health and social work activities\n",
    "- Number service of Arts, entertainment and recreation\n",
    "- Number of Other service activities\n",
    "\n",
    "Later I wil use Forsquare API to get the most common venues of given municipality"
   ],
   "cell_type": "markdown",
   "metadata": {}
  },
  {
   "source": [
    "### Data sources\n",
    "1. [Geographic data](http://stat.fi/org/avoindata/paikkatietoaineistot_en.html)\n",
    "2. [List of average housing price]( https://pxnet2.stat.fi/PXWeb/pxweb/en/StatFin/StatFin__asu__ashi__vv/statfin_ashi_pxt_112q.px/)\n",
    "3. [Paavo database](https://pxnet2.stat.fi/PXWeb/pxweb/en/Postinumeroalueittainen_avoin_tieto/Postinumeroalueittainen_avoin_tieto__2021/paavo_pxt_12f8.px/)\n",
    "4. [Fourth-level Administrative Divisions of Finland from Spatial Data Repository of NYU](https://geo.nyu.edu/catalog/stanford-hv524rk9855)"
   ],
   "cell_type": "markdown",
   "metadata": {}
  }
 ]
}